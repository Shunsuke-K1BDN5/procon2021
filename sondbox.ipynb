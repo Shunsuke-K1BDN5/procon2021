{
 "cells": [
  {
   "cell_type": "code",
   "execution_count": 1,
   "source": [
    "import numpy as np\r\n",
    "varMat = [[1,2], [3,4]]\r\n",
    "\r\n",
    "def double(n):\r\n",
    "    return n**2\r\n",
    "\r\n",
    "f = np.vectorize(double)\r\n",
    "varMat = f(varMat)\r\n",
    "print(varMat)"
   ],
   "outputs": [
    {
     "output_type": "stream",
     "name": "stdout",
     "text": [
      "[[ 1  4]\n",
      " [ 9 16]]\n"
     ]
    }
   ],
   "metadata": {}
  },
  {
   "cell_type": "code",
   "execution_count": 2,
   "source": [
    "mylist = [3,4,5]\r\n",
    "mylist = map(double,mylist)\r\n",
    "print(next(mylist))"
   ],
   "outputs": [
    {
     "output_type": "stream",
     "name": "stdout",
     "text": [
      "9\n"
     ]
    }
   ],
   "metadata": {}
  }
 ],
 "metadata": {
  "orig_nbformat": 4,
  "language_info": {
   "name": "python",
   "version": "3.8.8",
   "mimetype": "text/x-python",
   "codemirror_mode": {
    "name": "ipython",
    "version": 3
   },
   "pygments_lexer": "ipython3",
   "nbconvert_exporter": "python",
   "file_extension": ".py"
  },
  "kernelspec": {
   "name": "python3",
   "display_name": "Python 3.8.8 64-bit ('base': conda)"
  },
  "interpreter": {
   "hash": "90de0cb5340f2421d29f6927bfc29a54a0c5ffed6650aadb5a487ed8f622106d"
  }
 },
 "nbformat": 4,
 "nbformat_minor": 2
}
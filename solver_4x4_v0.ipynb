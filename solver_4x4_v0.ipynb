{
 "cells": [
  {
   "cell_type": "code",
   "execution_count": 556,
   "source": [
    "import os\r\n",
    "from os.path import join\r\n",
    "import numpy as np\r\n",
    "import copy\r\n",
    "import torch\r\n",
    "import torch.nn as nn\r\n",
    "import torch.nn.functional as F\r\n",
    "import torch.optim as optim\r\n",
    "import random\r\n",
    "import matplotlib.pyplot as plt\r\n",
    "\r\n",
    "from PIL import Image\r\n"
   ],
   "outputs": [],
   "metadata": {}
  },
  {
   "cell_type": "code",
   "execution_count": 557,
   "source": [
    "class directionModel(nn.Module):\r\n",
    "    def __init__(self):\r\n",
    "        super().__init__()\r\n",
    "        self.fc1 = nn.Linear(4*4*4,64)# output Layer to Intermediate modules\r\n",
    "        self.fc2 = nn.Linear(64,64) #Intermediate modules to Output Layer\r\n",
    "        self.fc3 = nn.Linear(64,32) #Intermediate modules to Output Layer\r\n",
    "        self.fc4 = nn.Linear(32,32) #Intermediate modules to Output Layer\r\n",
    "        self.fc5 = nn.Linear(32,16) #Intermediate modules to Output Layer\r\n",
    "        self.fc6 = nn.Linear(16,16)\r\n",
    "        self.fc7 = nn.Linear(16,8)\r\n",
    "        self.fc8 = nn.Linear(8,8)\r\n",
    "        self.fc9 = nn.Linear(8,5)  \r\n",
    "\r\n",
    "    def forward(self, x):#順伝播 Forward propagation\r\n",
    "        x = x.view(-1,4*4*4)\r\n",
    "        x = self.fc1(x)\r\n",
    "        x = self.fc2(x)\r\n",
    "        x = self.fc3(x)\r\n",
    "        x = self.fc4(x)\r\n",
    "        x = self.fc5(x)\r\n",
    "        x = self.fc6(x)\r\n",
    "        x = self.fc7(x)\r\n",
    "        x = self.fc8(x)\r\n",
    "        y = self.fc9(x)\r\n",
    "        return y"
   ],
   "outputs": [],
   "metadata": {}
  },
  {
   "cell_type": "code",
   "execution_count": 558,
   "source": [
    "class sellectionModel(nn.Module):\r\n",
    "    def __init__(self):\r\n",
    "        super().__init__()\r\n",
    "        self.fc1 = nn.Linear(4*4*3,48)# Input Layer to Intermediate modules\r\n",
    "        self.fc2 = nn.Linear(48,48) #Intermediate modules to Output Layer\r\n",
    "        self.fc3 = nn.Linear(48,24) #Intermediate modules to Output Layer\r\n",
    "        self.fc4 = nn.Linear(24,24) #Intermediate modules to Output Layer\r\n",
    "        self.fc5 = nn.Linear(24,16) #Intermediate modules to Output Layer\r\n",
    "        self.fc6 = nn.Linear(16,16)\r\n",
    "\r\n",
    "    def forward(self, x):#順伝播 Forward propagation\r\n",
    "        x = x.view(-1,4*4*3)\r\n",
    "        x = self.fc1(x)\r\n",
    "        x = self.fc2(x)\r\n",
    "        x = self.fc3(x)\r\n",
    "        x = self.fc4(x)\r\n",
    "        x = self.fc5(x)\r\n",
    "        y = self.fc6(x)\r\n",
    "        #y = nn.Softmax(self.fcp(x))\r\n",
    "        return y"
   ],
   "outputs": [],
   "metadata": {}
  },
  {
   "cell_type": "code",
   "execution_count": 559,
   "source": [
    "sellectNet = sellectionModel()\r\n",
    "directionNet = directionModel()\r\n"
   ],
   "outputs": [],
   "metadata": {}
  },
  {
   "cell_type": "code",
   "execution_count": 560,
   "source": [
    "sm_state_dict = torch.load('4x4_sellect_v1_model.pth')\r\n",
    "sellectNet.load_state_dict(sm_state_dict)\r\n",
    "dm_state_dict = torch.load('4x4_direction_v1_model.pth')\r\n",
    "directionNet.load_state_dict(dm_state_dict)"
   ],
   "outputs": [
    {
     "output_type": "execute_result",
     "data": {
      "text/plain": [
       "<All keys matched successfully>"
      ]
     },
     "metadata": {},
     "execution_count": 560
    }
   ],
   "metadata": {}
  },
  {
   "cell_type": "code",
   "execution_count": 561,
   "source": [
    "def get_img(path):\r\n",
    "    img = Image.open(path)\r\n",
    "    img = np.array(img)\r\n",
    "    return img\r\n",
    "def get_tensor(path):\r\n",
    "    tensor = torch.load(path)\r\n",
    "    tensor = np.array(tensor)\r\n",
    "    tensor = tensor.astype(np.float32)\r\n",
    "    return tensor"
   ],
   "outputs": [],
   "metadata": {}
  },
  {
   "cell_type": "code",
   "execution_count": 562,
   "source": [
    "path = \"E:/procon/data/4x4_v1/eve/1.pt\"\r\n",
    "problem = get_tensor(path)\r\n",
    "print(type(problem[0]))\r\n",
    "print(problem)\r\n",
    "def print_2d(my_list):\r\n",
    "    for a in my_list:\r\n",
    "        print(*a) \r\n"
   ],
   "outputs": [
    {
     "output_type": "stream",
     "name": "stdout",
     "text": [
      "<class 'numpy.ndarray'>\n",
      "[[[ 3.  0. 12.]\n",
      "  [ 0.  3.  3.]\n",
      "  [ 2.  3. 11.]\n",
      "  [ 1.  2.  6.]]\n",
      "\n",
      " [[ 2.  1.  9.]\n",
      "  [ 0.  1.  1.]\n",
      "  [ 0.  0.  0.]\n",
      "  [ 1.  3.  7.]]\n",
      "\n",
      " [[ 2.  2. 10.]\n",
      "  [ 1.  1.  5.]\n",
      "  [ 0.  2.  2.]\n",
      "  [ 2.  0.  8.]]\n",
      "\n",
      " [[ 1.  0.  4.]\n",
      "  [ 3.  2. 14.]\n",
      "  [ 3.  1. 13.]\n",
      "  [ 3.  3. 15.]]]\n"
     ]
    }
   ],
   "metadata": {}
  },
  {
   "cell_type": "code",
   "execution_count": 563,
   "source": [
    "#ゼロをすべてのマスの最後にたす(関数＋処理)\r\n",
    "def addzero(n):\r\n",
    "    n = list(np.append(n,0))\r\n",
    "    return n\r\n",
    "\r\n",
    "def addZero4all(n):\r\n",
    "    n = list(map(addzero,n))\r\n",
    "    return n\r\n",
    "\r\n",
    "def addzero_power(n):\r\n",
    "    h = len(n)\r\n",
    "    addzerod  = []\r\n",
    "    for i in range(h):\r\n",
    "        addzerod.append(list(map(addzero,n[i])))\r\n",
    "    \r\n",
    "    return addzerod\r\n",
    "\r\n",
    "#すべてのマスの末尾を消す　上の反対をする\r\n",
    "def del_last(n):\r\n",
    "    del n[-1]\r\n",
    "    return n\r\n",
    "\r\n",
    "def del_all_last(n):\r\n",
    "    for i in range(len(n)):\r\n",
    "        n[i] = list(map(del_last,n[i]))\r\n",
    "    return n"
   ],
   "outputs": [],
   "metadata": {}
  },
  {
   "cell_type": "code",
   "execution_count": 564,
   "source": [
    "#sellectNetをつかい選択されたますの末尾を255にする(関数)\r\n",
    "def sellect(input_array):\r\n",
    "    call_array = np.array(del_all_last(copy.deepcopy(input_array))).astype(np.float32)\r\n",
    "    sellected = sellectNet(torch.Tensor(call_array))\r\n",
    "    target_index = sellected.argmax()\r\n",
    "    w = len(input_array[0])\r\n",
    "    target = [target_index//w,target_index%w]\r\n",
    "    input_array[target[0]][target[1]][3] = 255\r\n",
    "\r\n",
    "    return input_array, target\r\n"
   ],
   "outputs": [],
   "metadata": {}
  },
  {
   "cell_type": "code",
   "execution_count": 565,
   "source": [
    "#directionNetの結果に基づいて交換する(関数)\r\n",
    "def move(input_array, target):\r\n",
    "    w = len(input_array)\r\n",
    "    moveList = [\"D\",\"L\",\"U\",\"R\",False]\r\n",
    "    # if input_array[target[0]][target[1]][0] < target[0] and input_array[target[0]-1][target[1]][0] <= target[0]:\r\n",
    "    #     way = 2\r\n",
    "    # elif input_array[target[0]][target[1]][0] > target[0] and input_array[lambda x :target[0]+1 if target[0]+1 < len(input_array) else 0][target[1]][0] >= target[0]:\r\n",
    "    #     way = 0\r\n",
    "    # if input_array[target[0]][target[1]][1] < target[1] and input_array[target[0]][target[1]][0-1] <= target[1]:\r\n",
    "    #     way = 1\r\n",
    "    # elif input_array[target[0]][target[1]][1] > target[1] and input_array[target[0]][lambda x :target[1]+1 if target[1]+1 < len(input_array[0]) else 0][0] >= target[1]:\r\n",
    "    #     way = 3\r\n",
    "    \r\n",
    "    next_is_collect = False\r\n",
    "    if lambda a :target[0]+1 if target[0]+1 < len(input_array) else 0 == target[0]:\r\n",
    "        if lambda b :target[1]+1 if target[1]+1 < len(input_array[0]) else 0 == target[1]:\r\n",
    "            next_is_collect = True\r\n",
    "            \r\n",
    "    if input_array[target[0]][target[1]][0] < target[0] :\r\n",
    "        way = 2\r\n",
    "    elif input_array[target[0]][target[1]][0] > target[0] :\r\n",
    "        way = 0\r\n",
    "    if input_array[target[0]][target[1]][1] < target[1] :\r\n",
    "        way = 1\r\n",
    "    elif input_array[target[0]][target[1]][1] > target[1] :\r\n",
    "        way = 3\r\n",
    "    else:\r\n",
    "        way =  4\r\n",
    "    #if input_array[target[0]][target[1]][0] == target[0] and input_array[target[0]][target[1]][1] == target[1]:\r\n",
    "    \r\n",
    "    change = moveList[way]\r\n",
    "\r\n",
    "    if way == 0:\r\n",
    "        if target[0]+1 == w:\r\n",
    "            input_array[target[0]][target[1]], input_array[0][target[1]] = input_array[0][target[1]], input_array[target[0]][target[1]]\r\n",
    "            #output_array[target[0]][target[1]], output_array[0][target[1]] = output_array[0][target[1]], output_array[target[0]][target[1]]\r\n",
    "            target = [0,target[1]]\r\n",
    "        else:\r\n",
    "            input_array[target[0]][target[1]], input_array[target[0]+1][target[1]] = input_array[target[0]+1][target[1]], input_array[target[0]][target[1]]\r\n",
    "            #output_array[target[0]][target[1]], output_array[target[0]][target[1]+1] = output_array[target[0]][target[1]], output_array[target[0]][target[1]+1]\r\n",
    "            target = [target[0]+1,target[1]]\r\n",
    "    elif  way == 1:\r\n",
    "        #print(input_array[target[0]][target[1]])\r\n",
    "        input_array[target[0]][target[1]], input_array[target[0]][target[1]-1] = input_array[target[0]][target[1]-1], input_array[target[0]][target[1]]\r\n",
    "        #output_array[target[0]][target[1]], output_array[target[0]][target[1]-1] = output_array[target[0]][target[1]], output_array[target[0]][target[1]-1]\r\n",
    "        target = [target[0],target[1]-1]\r\n",
    "    elif way == 2:\r\n",
    "        input_array[target[0]][target[1]], input_array[target[0]-1][target[1]] = input_array[target[0]-1][target[1]], input_array[target[0]][target[1]]\r\n",
    "        #output_array[target[0]][target[1]], output_array[target[0]-1][target[1]] = output_array[target[0]-1][target[1]], output_array[target[0]][target[1]]\r\n",
    "        target = [target[0]-1,target[1]]\r\n",
    "    elif way == 3:\r\n",
    "        if target[1]+1 == len(input_array[0]):\r\n",
    "            input_array[target[0]][target[1]], input_array[target[0]][0] = input_array[target[0]][0], input_array[target[0]][target[1]+1]\r\n",
    "            #output_array[target[0]][target[1]], output_array[target[0]][0] = output_array[target[0]][0], output_array[target[0]][target[1]+1]\r\n",
    "            target = [target[0],0]\r\n",
    "        else:\r\n",
    "            input_array[target[0]][target[1]], input_array[target[0]][target[1]+1] = input_array[target[0]][target[1]+1], input_array[target[0]][target[1]]\r\n",
    "            #output_array[target[0]-1][target[1]], output_array[target[0]][target[1]] = output_array[target[0]-1][target[1]], output_array[target[0]][target[1]]\r\n",
    "            target = [target[0],target[1]+1]\r\n",
    "    elif way == 4:\r\n",
    "        input_array[target[0]][target[1]][3] = 0\r\n",
    "    \r\n",
    "\r\n",
    "    \r\n",
    "    return input_array, change, target"
   ],
   "outputs": [],
   "metadata": {}
  },
  {
   "cell_type": "code",
   "execution_count": 566,
   "source": [
    "#directionNetの結果に基づいて交換する(関数)\r\n",
    "def moveNet(input_array, target):\r\n",
    "    call_array = np.array(copy.deepcopy(input_array)).astype(np.float32)\r\n",
    "    direction = directionNet(torch.tensor(call_array))\r\n",
    "    way = direction.argmax()\r\n",
    "    w = len(input_array)\r\n",
    "    moveList = [\"D\",\"L\",\"U\",\"R\",False]\r\n",
    "    change = moveList[way]\r\n",
    "    if way == 0:\r\n",
    "        if target[0]+1 == w:\r\n",
    "            input_array[target[0]][target[1]], input_array[0][target[1]] = input_array[0][target[1]], input_array[target[0]][target[1]]\r\n",
    "            #output_array[target[0]][target[1]], output_array[0][target[1]] = output_array[0][target[1]], output_array[target[0]][target[1]]\r\n",
    "            target = [0,target[1]]\r\n",
    "        else:\r\n",
    "            input_array[target[0]][target[1]], input_array[target[0]+1][target[1]] = input_array[target[0]+1][target[1]], input_array[target[0]][target[1]]\r\n",
    "            #output_array[target[0]][target[1]], output_array[target[0]][target[1]+1] = output_array[target[0]][target[1]], output_array[target[0]][target[1]+1]\r\n",
    "            target = [target[0]+1,target[1]]\r\n",
    "    elif  way == 1:\r\n",
    "        #print(input_array[target[0]][target[1]])\r\n",
    "        input_array[target[0]][target[1]], input_array[target[0]][target[1]-1] = input_array[target[0]][target[1]-1], input_array[target[0]][target[1]]\r\n",
    "        #output_array[target[0]][target[1]], output_array[target[0]][target[1]-1] = output_array[target[0]][target[1]], output_array[target[0]][target[1]-1]\r\n",
    "        target = [target[0],target[1]-1]\r\n",
    "    elif way == 2:\r\n",
    "        input_array[target[0]][target[1]], input_array[target[0]-1][target[1]] = input_array[target[0]-1][target[1]], input_array[target[0]][target[1]]\r\n",
    "        #output_array[target[0]][target[1]], output_array[target[0]-1][target[1]] = output_array[target[0]-1][target[1]], output_array[target[0]][target[1]]\r\n",
    "        target = [target[0]-1,target[1]]\r\n",
    "    elif way == 3:\r\n",
    "        if target[1]+1 == len(input_array[0]):\r\n",
    "            input_array[target[0]][target[1]], input_array[target[0]][0] = input_array[target[0]][0], input_array[target[0]][target[1]+1]\r\n",
    "            #output_array[target[0]][target[1]], output_array[target[0]][0] = output_array[target[0]][0], output_array[target[0]][target[1]+1]\r\n",
    "            target = [target[0],0]\r\n",
    "        else:\r\n",
    "            input_array[target[0]][target[1]], input_array[target[0]][target[1]+1] = input_array[target[0]][target[1]+1], input_array[target[0]][target[1]]\r\n",
    "            #output_array[target[0]-1][target[1]], output_array[target[0]][target[1]] = output_array[target[0]-1][target[1]], output_array[target[0]][target[1]]\r\n",
    "            target = [target[0],target[1]+1]\r\n",
    "    elif way == 4:\r\n",
    "        input_array[target[0]][target[1]][3] = 0\r\n",
    "\r\n",
    "    \r\n",
    "    return input_array, change, target"
   ],
   "outputs": [],
   "metadata": {}
  },
  {
   "cell_type": "code",
   "execution_count": 567,
   "source": [
    "#Main\r\n",
    "path = \"E:/procon/data/4x4_v1/eve/1.pt\"\r\n",
    "problem = get_tensor(path)\r\n",
    "problem  = addzero_power(problem)\r\n",
    "i = 0\r\n",
    "k = 0\r\n",
    "while True:\r\n",
    "    #print(i)\r\n",
    "    #print(type(problem))\r\n",
    "    problem, target = sellect(problem)\r\n",
    "    problem, direction, target = move(problem, target)\r\n",
    "    k += 1\r\n",
    "    while direction:\r\n",
    "        #print(\"\")\r\n",
    "        problem, direction, target = move(problem, target)\r\n",
    "        i += 1\r\n",
    "        #print_2d(problem)\r\n",
    "    if i > 8 or k >30:\r\n",
    "        break\r\n",
    "\r\n",
    "for i in range(4):\r\n",
    "    for j in range(4):\r\n",
    "        print(problem[i][j][2])"
   ],
   "outputs": [
    {
     "output_type": "stream",
     "name": "stdout",
     "text": [
      "12.0\n",
      "3.0\n",
      "11.0\n",
      "6.0\n",
      "0.0\n",
      "9.0\n",
      "1.0\n",
      "7.0\n",
      "8.0\n",
      "5.0\n",
      "2.0\n",
      "10.0\n",
      "4.0\n",
      "14.0\n",
      "13.0\n",
      "15.0\n"
     ]
    }
   ],
   "metadata": {}
  },
  {
   "cell_type": "code",
   "execution_count": 568,
   "source": [
    "print(problem)"
   ],
   "outputs": [
    {
     "output_type": "stream",
     "name": "stdout",
     "text": [
      "[[[3.0, 0.0, 12.0, 0.0], [0.0, 3.0, 3.0, 0.0], [2.0, 3.0, 11.0, 0.0], [1.0, 2.0, 6.0, 0.0]], [[0.0, 0.0, 0.0, 0], [2.0, 1.0, 9.0, 0.0], [0.0, 1.0, 1.0, 0.0], [1.0, 3.0, 7.0, 0.0]], [[2.0, 0.0, 8.0, 0], [1.0, 1.0, 5.0, 0], [0.0, 2.0, 2.0, 0], [2.0, 2.0, 10.0, 0.0]], [[1.0, 0.0, 4.0, 0.0], [3.0, 2.0, 14.0, 0.0], [3.0, 1.0, 13.0, 0.0], [3.0, 3.0, 15.0, 0.0]]]\n"
     ]
    }
   ],
   "metadata": {}
  }
 ],
 "metadata": {
  "orig_nbformat": 4,
  "language_info": {
   "name": "python",
   "version": "3.8.8",
   "mimetype": "text/x-python",
   "codemirror_mode": {
    "name": "ipython",
    "version": 3
   },
   "pygments_lexer": "ipython3",
   "nbconvert_exporter": "python",
   "file_extension": ".py"
  },
  "kernelspec": {
   "name": "python3",
   "display_name": "Python 3.8.8 64-bit ('base': conda)"
  },
  "interpreter": {
   "hash": "90de0cb5340f2421d29f6927bfc29a54a0c5ffed6650aadb5a487ed8f622106d"
  }
 },
 "nbformat": 4,
 "nbformat_minor": 2
}